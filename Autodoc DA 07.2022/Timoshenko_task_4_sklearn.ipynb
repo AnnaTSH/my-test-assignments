{
 "cells": [
  {
   "cell_type": "markdown",
   "metadata": {},
   "source": [
    "# Анна Тимошенко (Дата Аналитик)\n",
    "# Задание #3 Sklearn и основы ML\n",
    "\n",
    "## Инструменты и ресурсы для выполнения задания\n",
    "\n",
    "### Библиотеки Python\n",
    "\n",
    "* [Sklearn](http://scikit-learn.org/stable/).\n",
    "  - [Introduction to machine learning in Python with scikit-learn](http://www.dataschool.io/machine-learning-with-scikit-learn/).\n",
    "* [Kaggle Python Tutorial on Machine Learning](https://campus.datacamp.com/courses/kaggle-python-tutorial-on-machine-learning).\n",
    "\n",
    "### Ресурсы по изучению ML\n",
    "* [ML from Stanford University](https://www.coursera.org/learn/machine-learning/). Самый базовый курс.\n",
    "* [Введение в машинное обучение](https://www.coursera.org/learn/vvedenie-mashinnoe-obuchenie/). Курс професссора Воронцова К.В. на coursera.org. Существенно более полный, чем курс Andrew Ng, но сокращен по сравнению с курсом, читаемым в ШАД.\n",
    "\n",
    "![what I really do](https://pp.vk.me/c629431/v629431882/2a1a8/7EAKCA_FtnA.jpg)\n",
    "  \n",
    "## Разминка\n",
    "1. Загрузите набор данных [Spambase](https://archive.ics.uci.edu/ml/datasets/Spambase). *Сами данные находятся по ссылке http://archive.ics.uci.edu/ml/machine-learning-databases/spambase/spambase.data. Вам также потребуются имена признаков, которые доступны по ссылке http://archive.ics.uci.edu/ml/machine-learning-databases/spambase/spambase.names*."
   ]
  },
  {
   "cell_type": "code",
   "execution_count": 1,
   "metadata": {},
   "outputs": [],
   "source": [
    "import wget\n",
    "import pandas as pd\n",
    "import re\n",
    "import numpy as np\n",
    "import matplotlib.pyplot as plt\n",
    "import seaborn as sns\n",
    "from sklearn.model_selection import train_test_split\n",
    "from sklearn.tree import DecisionTreeClassifier\n",
    "from sklearn.metrics import recall_score\n",
    "from sklearn.metrics import precision_score\n",
    "from sklearn.metrics import f1_score\n",
    "from sklearn.metrics import accuracy_score\n",
    "from sklearn.metrics import confusion_matrix, ConfusionMatrixDisplay"
   ]
  },
  {
   "cell_type": "code",
   "execution_count": 2,
   "metadata": {},
   "outputs": [
    {
     "data": {
      "text/plain": [
       "'spambase.names'"
      ]
     },
     "execution_count": 2,
     "metadata": {},
     "output_type": "execute_result"
    }
   ],
   "source": [
    "# Загрузим необходимые файлы\n",
    "wget.download('http://archive.ics.uci.edu/ml/machine-learning-databases/spambase/spambase.data', 'spambase.data')\n",
    "wget.download('http://archive.ics.uci.edu/ml/machine-learning-databases/spambase/spambase.names', 'spambase.names')"
   ]
  },
  {
   "cell_type": "code",
   "execution_count": 3,
   "metadata": {},
   "outputs": [
    {
     "name": "stdout",
     "output_type": "stream",
     "text": [
      "| SPAM E-MAIL DATABASE ATTRIBUTES (in .names format)\n",
      "\n",
      "|\n",
      "\n",
      "| 48 continuous real [0,100] attributes of type word_freq_WORD \n",
      "\n",
      "| = percentage of words in the e-mail that match WORD,\n",
      "\n",
      "| i.e. 100 * (number of times the WORD appears in the e-mail) / \n",
      "\n",
      "| total number of words in e-mail.  A \"word\" in this case is any \n",
      "\n",
      "| string of alphanumeric characters bounded by non-alphanumeric \n",
      "\n",
      "| characters or end-of-string.\n",
      "\n",
      "|\n",
      "\n",
      "| 6 continuous real [0,100] attributes of type char_freq_CHAR\n",
      "\n",
      "| = percentage of characters in the e-mail that match CHAR,\n",
      "\n",
      "| i.e. 100 * (number of CHAR occurences) / total characters in e-mail\n",
      "\n",
      "|\n",
      "\n",
      "| 1 continuous real [1,...] attribute of type capital_run_length_average\n",
      "\n",
      "| = average length of uninterrupted sequences of capital letters\n",
      "\n",
      "|\n",
      "\n",
      "| 1 continuous integer [1,...] attribute of type capital_run_length_longest\n",
      "\n",
      "| = length of longest uninterrupted sequence of capital letters\n",
      "\n",
      "|\n",
      "\n",
      "| 1 continuous integer [1,...] attribute of type capital_run_length_total\n",
      "\n",
      "| = sum of length of uninterrupted sequences of capital letters\n",
      "\n",
      "| = total number of capital letters in the e-mail\n",
      "\n",
      "|\n",
      "\n",
      "| 1 nominal {0,1} class attribute of type spam\n",
      "\n",
      "| = denotes whether the e-mail was considered spam (1) or not (0), \n",
      "\n",
      "| i.e. unsolicited commercial e-mail.  \n",
      "\n",
      "|\n",
      "\n",
      "| For more information, see file 'spambase.DOCUMENTATION' at the\n",
      "\n",
      "| UCI Machine Learning Repository: http://www.ics.uci.edu/~mlearn/MLRepository.html\n",
      "\n",
      "\n",
      "\n",
      "\n",
      "\n",
      "1, 0.    | spam, non-spam classes\n",
      "\n",
      "\n",
      "\n",
      "word_freq_make:         continuous.\n",
      "\n",
      "word_freq_address:      continuous.\n",
      "\n",
      "word_freq_all:          continuous.\n",
      "\n",
      "word_freq_3d:           continuous.\n",
      "\n",
      "word_freq_our:          continuous.\n",
      "\n",
      "word_freq_over:         continuous.\n",
      "\n",
      "word_freq_remove:       continuous.\n",
      "\n",
      "word_freq_internet:     continuous.\n",
      "\n",
      "word_freq_order:        continuous.\n",
      "\n",
      "word_freq_mail:         continuous.\n",
      "\n",
      "word_freq_receive:      continuous.\n",
      "\n",
      "word_freq_will:         continuous.\n",
      "\n",
      "word_freq_people:       continuous.\n",
      "\n",
      "word_freq_report:       continuous.\n",
      "\n",
      "word_freq_addresses:    continuous.\n",
      "\n",
      "word_freq_free:         continuous.\n",
      "\n",
      "word_freq_business:     continuous.\n",
      "\n",
      "word_freq_email:        continuous.\n",
      "\n",
      "word_freq_you:          continuous.\n",
      "\n",
      "word_freq_credit:       continuous.\n",
      "\n",
      "word_freq_your:         continuous.\n",
      "\n",
      "word_freq_font:         continuous.\n",
      "\n",
      "word_freq_000:          continuous.\n",
      "\n",
      "word_freq_money:        continuous.\n",
      "\n",
      "word_freq_hp:           continuous.\n",
      "\n",
      "word_freq_hpl:          continuous.\n",
      "\n",
      "word_freq_george:       continuous.\n",
      "\n",
      "word_freq_650:          continuous.\n",
      "\n",
      "word_freq_lab:          continuous.\n",
      "\n",
      "word_freq_labs:         continuous.\n",
      "\n",
      "word_freq_telnet:       continuous.\n",
      "\n",
      "word_freq_857:          continuous.\n",
      "\n",
      "word_freq_data:         continuous.\n",
      "\n",
      "word_freq_415:          continuous.\n",
      "\n",
      "word_freq_85:           continuous.\n",
      "\n",
      "word_freq_technology:   continuous.\n",
      "\n",
      "word_freq_1999:         continuous.\n",
      "\n",
      "word_freq_parts:        continuous.\n",
      "\n",
      "word_freq_pm:           continuous.\n",
      "\n",
      "word_freq_direct:       continuous.\n",
      "\n",
      "word_freq_cs:           continuous.\n",
      "\n",
      "word_freq_meeting:      continuous.\n",
      "\n",
      "word_freq_original:     continuous.\n",
      "\n",
      "word_freq_project:      continuous.\n",
      "\n",
      "word_freq_re:           continuous.\n",
      "\n",
      "word_freq_edu:          continuous.\n",
      "\n",
      "word_freq_table:        continuous.\n",
      "\n",
      "word_freq_conference:   continuous.\n",
      "\n",
      "char_freq_;:            continuous.\n",
      "\n",
      "char_freq_(:            continuous.\n",
      "\n",
      "char_freq_[:            continuous.\n",
      "\n",
      "char_freq_!:            continuous.\n",
      "\n",
      "char_freq_$:            continuous.\n",
      "\n",
      "char_freq_#:            continuous.\n",
      "\n",
      "capital_run_length_average: continuous.\n",
      "\n",
      "capital_run_length_longest: continuous.\n",
      "\n",
      "capital_run_length_total:   continuous.\n",
      "\n"
     ]
    }
   ],
   "source": [
    "# Посмотрим содержание файла с именами признаков\n",
    "with open('spambase.names', 'r') as f:\n",
    "    columns = []\n",
    "    for line in f:\n",
    "        print(line)"
   ]
  },
  {
   "cell_type": "code",
   "execution_count": 4,
   "metadata": {},
   "outputs": [],
   "source": [
    "# Соберём названия колонок из файла\n",
    "with open('spambase.names', 'r') as f:\n",
    "    columns = []\n",
    "    for line in f:\n",
    "        c = re.search(r'^[\\w+\\_]{2}.+(?=\\:)', line)\n",
    "        if c:\n",
    "            columns.append(c.group())\n",
    "# Как указано в документации, последняя колонка - это признак, является ли письмо спамом\n",
    "columns.append('spam')"
   ]
  },
  {
   "cell_type": "code",
   "execution_count": 5,
   "metadata": {},
   "outputs": [],
   "source": [
    "df = pd.read_csv('spambase.data', header=None, names=columns, sep=',')"
   ]
  },
  {
   "cell_type": "code",
   "execution_count": 6,
   "metadata": {},
   "outputs": [
    {
     "data": {
      "text/html": [
       "<div>\n",
       "<style scoped>\n",
       "    .dataframe tbody tr th:only-of-type {\n",
       "        vertical-align: middle;\n",
       "    }\n",
       "\n",
       "    .dataframe tbody tr th {\n",
       "        vertical-align: top;\n",
       "    }\n",
       "\n",
       "    .dataframe thead th {\n",
       "        text-align: right;\n",
       "    }\n",
       "</style>\n",
       "<table border=\"1\" class=\"dataframe\">\n",
       "  <thead>\n",
       "    <tr style=\"text-align: right;\">\n",
       "      <th></th>\n",
       "      <th>word_freq_make</th>\n",
       "      <th>word_freq_address</th>\n",
       "      <th>word_freq_all</th>\n",
       "      <th>word_freq_3d</th>\n",
       "      <th>word_freq_our</th>\n",
       "      <th>word_freq_over</th>\n",
       "      <th>word_freq_remove</th>\n",
       "      <th>word_freq_internet</th>\n",
       "      <th>word_freq_order</th>\n",
       "      <th>word_freq_mail</th>\n",
       "      <th>...</th>\n",
       "      <th>char_freq_;</th>\n",
       "      <th>char_freq_(</th>\n",
       "      <th>char_freq_[</th>\n",
       "      <th>char_freq_!</th>\n",
       "      <th>char_freq_$</th>\n",
       "      <th>char_freq_#</th>\n",
       "      <th>capital_run_length_average</th>\n",
       "      <th>capital_run_length_longest</th>\n",
       "      <th>capital_run_length_total</th>\n",
       "      <th>spam</th>\n",
       "    </tr>\n",
       "  </thead>\n",
       "  <tbody>\n",
       "    <tr>\n",
       "      <th>0</th>\n",
       "      <td>0.00</td>\n",
       "      <td>0.64</td>\n",
       "      <td>0.64</td>\n",
       "      <td>0.0</td>\n",
       "      <td>0.32</td>\n",
       "      <td>0.00</td>\n",
       "      <td>0.00</td>\n",
       "      <td>0.00</td>\n",
       "      <td>0.00</td>\n",
       "      <td>0.00</td>\n",
       "      <td>...</td>\n",
       "      <td>0.000</td>\n",
       "      <td>0.000</td>\n",
       "      <td>0.0</td>\n",
       "      <td>0.778</td>\n",
       "      <td>0.000</td>\n",
       "      <td>0.000</td>\n",
       "      <td>3.756</td>\n",
       "      <td>61</td>\n",
       "      <td>278</td>\n",
       "      <td>1</td>\n",
       "    </tr>\n",
       "    <tr>\n",
       "      <th>1</th>\n",
       "      <td>0.21</td>\n",
       "      <td>0.28</td>\n",
       "      <td>0.50</td>\n",
       "      <td>0.0</td>\n",
       "      <td>0.14</td>\n",
       "      <td>0.28</td>\n",
       "      <td>0.21</td>\n",
       "      <td>0.07</td>\n",
       "      <td>0.00</td>\n",
       "      <td>0.94</td>\n",
       "      <td>...</td>\n",
       "      <td>0.000</td>\n",
       "      <td>0.132</td>\n",
       "      <td>0.0</td>\n",
       "      <td>0.372</td>\n",
       "      <td>0.180</td>\n",
       "      <td>0.048</td>\n",
       "      <td>5.114</td>\n",
       "      <td>101</td>\n",
       "      <td>1028</td>\n",
       "      <td>1</td>\n",
       "    </tr>\n",
       "    <tr>\n",
       "      <th>2</th>\n",
       "      <td>0.06</td>\n",
       "      <td>0.00</td>\n",
       "      <td>0.71</td>\n",
       "      <td>0.0</td>\n",
       "      <td>1.23</td>\n",
       "      <td>0.19</td>\n",
       "      <td>0.19</td>\n",
       "      <td>0.12</td>\n",
       "      <td>0.64</td>\n",
       "      <td>0.25</td>\n",
       "      <td>...</td>\n",
       "      <td>0.010</td>\n",
       "      <td>0.143</td>\n",
       "      <td>0.0</td>\n",
       "      <td>0.276</td>\n",
       "      <td>0.184</td>\n",
       "      <td>0.010</td>\n",
       "      <td>9.821</td>\n",
       "      <td>485</td>\n",
       "      <td>2259</td>\n",
       "      <td>1</td>\n",
       "    </tr>\n",
       "    <tr>\n",
       "      <th>3</th>\n",
       "      <td>0.00</td>\n",
       "      <td>0.00</td>\n",
       "      <td>0.00</td>\n",
       "      <td>0.0</td>\n",
       "      <td>0.63</td>\n",
       "      <td>0.00</td>\n",
       "      <td>0.31</td>\n",
       "      <td>0.63</td>\n",
       "      <td>0.31</td>\n",
       "      <td>0.63</td>\n",
       "      <td>...</td>\n",
       "      <td>0.000</td>\n",
       "      <td>0.137</td>\n",
       "      <td>0.0</td>\n",
       "      <td>0.137</td>\n",
       "      <td>0.000</td>\n",
       "      <td>0.000</td>\n",
       "      <td>3.537</td>\n",
       "      <td>40</td>\n",
       "      <td>191</td>\n",
       "      <td>1</td>\n",
       "    </tr>\n",
       "    <tr>\n",
       "      <th>4</th>\n",
       "      <td>0.00</td>\n",
       "      <td>0.00</td>\n",
       "      <td>0.00</td>\n",
       "      <td>0.0</td>\n",
       "      <td>0.63</td>\n",
       "      <td>0.00</td>\n",
       "      <td>0.31</td>\n",
       "      <td>0.63</td>\n",
       "      <td>0.31</td>\n",
       "      <td>0.63</td>\n",
       "      <td>...</td>\n",
       "      <td>0.000</td>\n",
       "      <td>0.135</td>\n",
       "      <td>0.0</td>\n",
       "      <td>0.135</td>\n",
       "      <td>0.000</td>\n",
       "      <td>0.000</td>\n",
       "      <td>3.537</td>\n",
       "      <td>40</td>\n",
       "      <td>191</td>\n",
       "      <td>1</td>\n",
       "    </tr>\n",
       "    <tr>\n",
       "      <th>...</th>\n",
       "      <td>...</td>\n",
       "      <td>...</td>\n",
       "      <td>...</td>\n",
       "      <td>...</td>\n",
       "      <td>...</td>\n",
       "      <td>...</td>\n",
       "      <td>...</td>\n",
       "      <td>...</td>\n",
       "      <td>...</td>\n",
       "      <td>...</td>\n",
       "      <td>...</td>\n",
       "      <td>...</td>\n",
       "      <td>...</td>\n",
       "      <td>...</td>\n",
       "      <td>...</td>\n",
       "      <td>...</td>\n",
       "      <td>...</td>\n",
       "      <td>...</td>\n",
       "      <td>...</td>\n",
       "      <td>...</td>\n",
       "      <td>...</td>\n",
       "    </tr>\n",
       "    <tr>\n",
       "      <th>4596</th>\n",
       "      <td>0.31</td>\n",
       "      <td>0.00</td>\n",
       "      <td>0.62</td>\n",
       "      <td>0.0</td>\n",
       "      <td>0.00</td>\n",
       "      <td>0.31</td>\n",
       "      <td>0.00</td>\n",
       "      <td>0.00</td>\n",
       "      <td>0.00</td>\n",
       "      <td>0.00</td>\n",
       "      <td>...</td>\n",
       "      <td>0.000</td>\n",
       "      <td>0.232</td>\n",
       "      <td>0.0</td>\n",
       "      <td>0.000</td>\n",
       "      <td>0.000</td>\n",
       "      <td>0.000</td>\n",
       "      <td>1.142</td>\n",
       "      <td>3</td>\n",
       "      <td>88</td>\n",
       "      <td>0</td>\n",
       "    </tr>\n",
       "    <tr>\n",
       "      <th>4597</th>\n",
       "      <td>0.00</td>\n",
       "      <td>0.00</td>\n",
       "      <td>0.00</td>\n",
       "      <td>0.0</td>\n",
       "      <td>0.00</td>\n",
       "      <td>0.00</td>\n",
       "      <td>0.00</td>\n",
       "      <td>0.00</td>\n",
       "      <td>0.00</td>\n",
       "      <td>0.00</td>\n",
       "      <td>...</td>\n",
       "      <td>0.000</td>\n",
       "      <td>0.000</td>\n",
       "      <td>0.0</td>\n",
       "      <td>0.353</td>\n",
       "      <td>0.000</td>\n",
       "      <td>0.000</td>\n",
       "      <td>1.555</td>\n",
       "      <td>4</td>\n",
       "      <td>14</td>\n",
       "      <td>0</td>\n",
       "    </tr>\n",
       "    <tr>\n",
       "      <th>4598</th>\n",
       "      <td>0.30</td>\n",
       "      <td>0.00</td>\n",
       "      <td>0.30</td>\n",
       "      <td>0.0</td>\n",
       "      <td>0.00</td>\n",
       "      <td>0.00</td>\n",
       "      <td>0.00</td>\n",
       "      <td>0.00</td>\n",
       "      <td>0.00</td>\n",
       "      <td>0.00</td>\n",
       "      <td>...</td>\n",
       "      <td>0.102</td>\n",
       "      <td>0.718</td>\n",
       "      <td>0.0</td>\n",
       "      <td>0.000</td>\n",
       "      <td>0.000</td>\n",
       "      <td>0.000</td>\n",
       "      <td>1.404</td>\n",
       "      <td>6</td>\n",
       "      <td>118</td>\n",
       "      <td>0</td>\n",
       "    </tr>\n",
       "    <tr>\n",
       "      <th>4599</th>\n",
       "      <td>0.96</td>\n",
       "      <td>0.00</td>\n",
       "      <td>0.00</td>\n",
       "      <td>0.0</td>\n",
       "      <td>0.32</td>\n",
       "      <td>0.00</td>\n",
       "      <td>0.00</td>\n",
       "      <td>0.00</td>\n",
       "      <td>0.00</td>\n",
       "      <td>0.00</td>\n",
       "      <td>...</td>\n",
       "      <td>0.000</td>\n",
       "      <td>0.057</td>\n",
       "      <td>0.0</td>\n",
       "      <td>0.000</td>\n",
       "      <td>0.000</td>\n",
       "      <td>0.000</td>\n",
       "      <td>1.147</td>\n",
       "      <td>5</td>\n",
       "      <td>78</td>\n",
       "      <td>0</td>\n",
       "    </tr>\n",
       "    <tr>\n",
       "      <th>4600</th>\n",
       "      <td>0.00</td>\n",
       "      <td>0.00</td>\n",
       "      <td>0.65</td>\n",
       "      <td>0.0</td>\n",
       "      <td>0.00</td>\n",
       "      <td>0.00</td>\n",
       "      <td>0.00</td>\n",
       "      <td>0.00</td>\n",
       "      <td>0.00</td>\n",
       "      <td>0.00</td>\n",
       "      <td>...</td>\n",
       "      <td>0.000</td>\n",
       "      <td>0.000</td>\n",
       "      <td>0.0</td>\n",
       "      <td>0.125</td>\n",
       "      <td>0.000</td>\n",
       "      <td>0.000</td>\n",
       "      <td>1.250</td>\n",
       "      <td>5</td>\n",
       "      <td>40</td>\n",
       "      <td>0</td>\n",
       "    </tr>\n",
       "  </tbody>\n",
       "</table>\n",
       "<p>4601 rows × 58 columns</p>\n",
       "</div>"
      ],
      "text/plain": [
       "      word_freq_make  word_freq_address  word_freq_all  word_freq_3d  \\\n",
       "0               0.00               0.64           0.64           0.0   \n",
       "1               0.21               0.28           0.50           0.0   \n",
       "2               0.06               0.00           0.71           0.0   \n",
       "3               0.00               0.00           0.00           0.0   \n",
       "4               0.00               0.00           0.00           0.0   \n",
       "...              ...                ...            ...           ...   \n",
       "4596            0.31               0.00           0.62           0.0   \n",
       "4597            0.00               0.00           0.00           0.0   \n",
       "4598            0.30               0.00           0.30           0.0   \n",
       "4599            0.96               0.00           0.00           0.0   \n",
       "4600            0.00               0.00           0.65           0.0   \n",
       "\n",
       "      word_freq_our  word_freq_over  word_freq_remove  word_freq_internet  \\\n",
       "0              0.32            0.00              0.00                0.00   \n",
       "1              0.14            0.28              0.21                0.07   \n",
       "2              1.23            0.19              0.19                0.12   \n",
       "3              0.63            0.00              0.31                0.63   \n",
       "4              0.63            0.00              0.31                0.63   \n",
       "...             ...             ...               ...                 ...   \n",
       "4596           0.00            0.31              0.00                0.00   \n",
       "4597           0.00            0.00              0.00                0.00   \n",
       "4598           0.00            0.00              0.00                0.00   \n",
       "4599           0.32            0.00              0.00                0.00   \n",
       "4600           0.00            0.00              0.00                0.00   \n",
       "\n",
       "      word_freq_order  word_freq_mail  ...  char_freq_;  char_freq_(  \\\n",
       "0                0.00            0.00  ...        0.000        0.000   \n",
       "1                0.00            0.94  ...        0.000        0.132   \n",
       "2                0.64            0.25  ...        0.010        0.143   \n",
       "3                0.31            0.63  ...        0.000        0.137   \n",
       "4                0.31            0.63  ...        0.000        0.135   \n",
       "...               ...             ...  ...          ...          ...   \n",
       "4596             0.00            0.00  ...        0.000        0.232   \n",
       "4597             0.00            0.00  ...        0.000        0.000   \n",
       "4598             0.00            0.00  ...        0.102        0.718   \n",
       "4599             0.00            0.00  ...        0.000        0.057   \n",
       "4600             0.00            0.00  ...        0.000        0.000   \n",
       "\n",
       "      char_freq_[  char_freq_!  char_freq_$  char_freq_#  \\\n",
       "0             0.0        0.778        0.000        0.000   \n",
       "1             0.0        0.372        0.180        0.048   \n",
       "2             0.0        0.276        0.184        0.010   \n",
       "3             0.0        0.137        0.000        0.000   \n",
       "4             0.0        0.135        0.000        0.000   \n",
       "...           ...          ...          ...          ...   \n",
       "4596          0.0        0.000        0.000        0.000   \n",
       "4597          0.0        0.353        0.000        0.000   \n",
       "4598          0.0        0.000        0.000        0.000   \n",
       "4599          0.0        0.000        0.000        0.000   \n",
       "4600          0.0        0.125        0.000        0.000   \n",
       "\n",
       "      capital_run_length_average  capital_run_length_longest  \\\n",
       "0                          3.756                          61   \n",
       "1                          5.114                         101   \n",
       "2                          9.821                         485   \n",
       "3                          3.537                          40   \n",
       "4                          3.537                          40   \n",
       "...                          ...                         ...   \n",
       "4596                       1.142                           3   \n",
       "4597                       1.555                           4   \n",
       "4598                       1.404                           6   \n",
       "4599                       1.147                           5   \n",
       "4600                       1.250                           5   \n",
       "\n",
       "      capital_run_length_total  spam  \n",
       "0                          278     1  \n",
       "1                         1028     1  \n",
       "2                         2259     1  \n",
       "3                          191     1  \n",
       "4                          191     1  \n",
       "...                        ...   ...  \n",
       "4596                        88     0  \n",
       "4597                        14     0  \n",
       "4598                       118     0  \n",
       "4599                        78     0  \n",
       "4600                        40     0  \n",
       "\n",
       "[4601 rows x 58 columns]"
      ]
     },
     "execution_count": 6,
     "metadata": {},
     "output_type": "execute_result"
    }
   ],
   "source": [
    "df"
   ]
  },
  {
   "cell_type": "markdown",
   "metadata": {},
   "source": [
    "2. Ответьте на следующие воросы:\n",
    "  * Сколько примеров писем в датасете?"
   ]
  },
  {
   "cell_type": "code",
   "execution_count": 7,
   "metadata": {},
   "outputs": [
    {
     "data": {
      "text/plain": [
       "4601"
      ]
     },
     "execution_count": 7,
     "metadata": {},
     "output_type": "execute_result"
    }
   ],
   "source": [
    "df.shape[0]"
   ]
  },
  {
   "cell_type": "markdown",
   "metadata": {},
   "source": [
    "  * Какова доля спама?"
   ]
  },
  {
   "cell_type": "code",
   "execution_count": 8,
   "metadata": {},
   "outputs": [
    {
     "data": {
      "text/plain": [
       "0.39404477287546186"
      ]
     },
     "execution_count": 8,
     "metadata": {},
     "output_type": "execute_result"
    }
   ],
   "source": [
    "df[df.spam == 1].shape[0] / df.shape[0]"
   ]
  },
  {
   "cell_type": "markdown",
   "metadata": {},
   "source": [
    "  * Какие характерные группы признаков представлены в наборе?"
   ]
  },
  {
   "cell_type": "markdown",
   "metadata": {},
   "source": [
    "* процент слов в электронном письме, которые соответствуют конкретному слову\n",
    "* процент символов в электронном письме, которые соответствуют конкретному символу\n",
    "* средняя длина непрерывных последовательностей заглавных букв\n",
    "* длина самой длинной непрерывной последовательности заглавных букв\n",
    "* сумма длин непрерывных последовательностей заглавных букв (=общее количество заглавных букв в электронном письме)\n",
    "* атрибут, показывающий спам это или нет"
   ]
  },
  {
   "cell_type": "markdown",
   "metadata": {},
   "source": [
    "3. Подготовьте два разбиения исходного набора данных на тестовую (test) и обучающую (train) выборки:\n",
    "  * Первые 3000 писем отдайте на обучение, а оставшиеся на тест.\n",
    "  * Сделайте случайное разбиение в тех же пропорциях."
   ]
  },
  {
   "cell_type": "code",
   "execution_count": 9,
   "metadata": {},
   "outputs": [],
   "source": [
    "X = df.drop(\"spam\", axis = 1).values\n",
    "y = df[\"spam\"].values"
   ]
  },
  {
   "cell_type": "code",
   "execution_count": 10,
   "metadata": {},
   "outputs": [],
   "source": [
    "X_train1 = X[:3000]\n",
    "X_test1 = X[3000:]\n",
    "y_train1 = y[:3000]\n",
    "y_test1 = y[3000:]"
   ]
  },
  {
   "cell_type": "code",
   "execution_count": 11,
   "metadata": {},
   "outputs": [],
   "source": [
    "# Используем функцию библиотеки scikit-learn для случайного разбиения в нужных пропорциях\n",
    "X_train, X_test, y_train, y_test = train_test_split(\n",
    "    X, y, train_size=(3000 / df.shape[0]), random_state=42)"
   ]
  },
  {
   "cell_type": "markdown",
   "metadata": {},
   "source": [
    "4. Для первого из разбиений обучите алгоритм sklearn.tree.DecisionTreeClassifier на обучающей выборке."
   ]
  },
  {
   "cell_type": "code",
   "execution_count": 12,
   "metadata": {},
   "outputs": [],
   "source": [
    "tree = DecisionTreeClassifier()\n",
    "tree.fit(X_train1, y_train1)\n",
    "y_pred1 = tree.predict(X_test1)"
   ]
  },
  {
   "cell_type": "markdown",
   "metadata": {
    "pycharm": {
     "name": "#%% md\n"
    }
   },
   "source": [
    "5. Замерьте метрики качества recall, precision, f1, accuracy на тестовой выборке из первого разбиения."
   ]
  },
  {
   "cell_type": "code",
   "execution_count": 13,
   "metadata": {},
   "outputs": [
    {
     "name": "stdout",
     "output_type": "stream",
     "text": [
      "Recall: \t 0.000\n",
      "Precision: \t 0.000\n",
      "F1 score:' \t 0.000\n",
      "Accuracy: \t 78.83%\n"
     ]
    },
    {
     "name": "stderr",
     "output_type": "stream",
     "text": [
      "C:\\Users\\Anna\\anaconda3\\lib\\site-packages\\sklearn\\metrics\\_classification.py:1248: UndefinedMetricWarning: Recall is ill-defined and being set to 0.0 due to no true samples. Use `zero_division` parameter to control this behavior.\n",
      "  _warn_prf(average, modifier, msg_start, len(result))\n"
     ]
    }
   ],
   "source": [
    "print(f\"Recall: \\t {recall_score(y_test1, y_pred1):.3f}\")\n",
    "print(f\"Precision: \\t {precision_score(y_test1, y_pred1):.3f}\")\n",
    "print(f\"F1 score:' \\t {f1_score(y_test1, y_pred1):.3f}\")\n",
    "print(f\"Accuracy: \\t {accuracy_score(y_test1, y_pred1):.2%}\")"
   ]
  },
  {
   "cell_type": "markdown",
   "metadata": {},
   "source": [
    "6. Повторите пункты 4. и 5. для второго разбиения."
   ]
  },
  {
   "cell_type": "code",
   "execution_count": 14,
   "metadata": {},
   "outputs": [
    {
     "name": "stdout",
     "output_type": "stream",
     "text": [
      "Recall: \t 0.906\n",
      "Precision: \t 0.884\n",
      "F1 score:' \t 0.895\n",
      "Accuracy: \t 91.26%\n"
     ]
    }
   ],
   "source": [
    "tree = DecisionTreeClassifier()\n",
    "tree.fit(X_train, y_train)\n",
    "y_pred = tree.predict(X_test)\n",
    "print(f\"Recall: \\t {recall_score(y_test, y_pred):.3f}\")\n",
    "print(f\"Precision: \\t {precision_score(y_test, y_pred):.3f}\")\n",
    "print(f\"F1 score:' \\t {f1_score(y_test, y_pred):.3f}\")\n",
    "print(f\"Accuracy: \\t {accuracy_score(y_test, y_pred):.2%}\")"
   ]
  },
  {
   "cell_type": "markdown",
   "metadata": {},
   "source": [
    "7. Объясните разницу в результатах. **Далее используйте только второе (случайное) разбиение.**"
   ]
  },
  {
   "cell_type": "markdown",
   "metadata": {},
   "source": [
    "У нас в тестовую выборку в первом разбиении попали исключительно строки с атрибутом spam = 0, то есть все письма не являются спамом."
   ]
  },
  {
   "cell_type": "code",
   "execution_count": 15,
   "metadata": {},
   "outputs": [
    {
     "data": {
      "text/plain": [
       "array([0], dtype=int64)"
      ]
     },
     "execution_count": 15,
     "metadata": {},
     "output_type": "execute_result"
    }
   ],
   "source": [
    "df[3000:].spam.unique()"
   ]
  },
  {
   "cell_type": "code",
   "execution_count": 16,
   "metadata": {},
   "outputs": [
    {
     "data": {
      "image/png": "[encoded data removed]",
      "text/plain": [
       "<Figure size 432x288 with 2 Axes>"
      ]
     },
     "metadata": {
      "needs_background": "light"
     },
     "output_type": "display_data"
    }
   ],
   "source": [
    "# Посмотрим матрицу ошибок на первом разбиении\n",
    "cm = confusion_matrix(y_test1, y_pred1, labels=tree.classes_)\n",
    "disp = ConfusionMatrixDisplay(confusion_matrix=cm, display_labels=tree.classes_)\n",
    "disp.plot()\n",
    "plt.show()"
   ]
  },
  {
   "cell_type": "markdown",
   "metadata": {},
   "source": [
    "Так как в тестовой выборке полностью отсутствуют письма со спамом, а модель предсказала какое-то количество спам-писем (в этом её смысл!), мы получаем 0 True Positive (истинно-положительных: модель верно предсказала спам) и 0 False Negative (ложно-отрицательных - модель решила, что это не спам, а это спам) решений.\n",
    "\n",
    "Отсюда мы сразу же получаем: \n",
    "* 0 Recall (Полнота) = TP / (TP + FN) (и предупреждение т.к. в знаменателе 0) и \n",
    "* 0 Precision (Точность) = TP / (TP + TN) (True Negative - истинно-отрицательных у нас 1262, т.е. правильно предсказан не-спам)\n",
    "* Accuracy = (TP + TN) / (TP + TN + FP + FN) - в принципе довольно высокий результат за счёт предсказанных не-спам писем\n",
    "* 0 F1-меру = 2 * TP * TN / (TP + TN), т.к. TP = 0"
   ]
  },
  {
   "cell_type": "markdown",
   "metadata": {},
   "source": [
    "**Наша тестовая выборка (в первом разбиении) попросту не позволяет оценить работу модели**"
   ]
  },
  {
   "cell_type": "code",
   "execution_count": 17,
   "metadata": {},
   "outputs": [
    {
     "data": {
      "image/png": "[encoded data removed]",
      "text/plain": [
       "<Figure size 432x288 with 2 Axes>"
      ]
     },
     "metadata": {
      "needs_background": "light"
     },
     "output_type": "display_data"
    }
   ],
   "source": [
    "# Посмотрим матрицу ошибок на втором разбиении\n",
    "cm = confusion_matrix(y_test, y_pred, labels=tree.classes_)\n",
    "disp = ConfusionMatrixDisplay(confusion_matrix=cm, display_labels=tree.classes_)\n",
    "disp.plot()\n",
    "plt.show()"
   ]
  },
  {
   "cell_type": "markdown",
   "metadata": {},
   "source": [
    "Видим значительное количество верно предсказанных 0 и 1 (верхний левый и правый нижний квадрат), и соответственно метрики Точность, Полнота, F1 имеют довольно высокие значения (близкие к 0.9)"
   ]
  },
  {
   "cell_type": "markdown",
   "metadata": {},
   "source": [
    "8. Для модели, обученной на случайном разбиении, выведите оценку информативности признаков (feature importance)."
   ]
  },
  {
   "cell_type": "code",
   "execution_count": 18,
   "metadata": {},
   "outputs": [
    {
     "data": {
      "text/plain": [
       "Text(0.5, 1.0, 'Feature importances')"
      ]
     },
     "execution_count": 18,
     "metadata": {},
     "output_type": "execute_result"
    },
    {
     "data": {
      "image/png": "[encoded data removed]",
      "text/plain": [
       "<Figure size 720x504 with 1 Axes>"
      ]
     },
     "metadata": {
      "needs_background": "light"
     },
     "output_type": "display_data"
    }
   ],
   "source": [
    "# Выведем те признаки, которые получили оценку информативности > 0\n",
    "importances = tree.feature_importances_\n",
    "tree_importances = pd.Series(importances, index=df.drop(\"spam\", axis = 1).columns)\n",
    "to_display = tree_importances[tree_importances > 0].sort_values(ascending=False)\n",
    "to_display = to_display.reset_index()\n",
    "to_display.columns = ['Feature', 'Importance']\n",
    "\n",
    "plt.figure(figsize=(10, 7))\n",
    "ax = sns.barplot(data=to_display,\n",
    "                 x='Feature',\n",
    "                 y='Importance'\n",
    "                )\n",
    "plt.xticks(rotation=90)\n",
    "ax.set_title('Feature importances')"
   ]
  },
  {
   "cell_type": "markdown",
   "metadata": {},
   "source": [
    "9. Предложите способ, как можно использовать данную оценку?"
   ]
  },
  {
   "cell_type": "markdown",
   "metadata": {},
   "source": [
    "Чем выше значение оценки информативности признака, тем больший эффект этот признак оказывает на предсказывающую модель. Считается, что оценка информативности признаков помогает лучше понять данные, и, например, менять стратегию по сбору данных для дальнейшей работы. Основываясь на этой оценке можно какие-то признаки удалить, для того, чтобы улучшить производительность модели, увеличить скорость работы."
   ]
  },
  {
   "cell_type": "code",
   "execution_count": 19,
   "metadata": {},
   "outputs": [
    {
     "name": "stdout",
     "output_type": "stream",
     "text": [
      "Recall: \t 0.654\n",
      "Precision: \t 0.904\n",
      "F1 score:' \t 0.759\n",
      "Accuracy: \t 82.89%\n"
     ]
    }
   ],
   "source": [
    "# можем попробовать обучить дерево на той части признаков, у которой информативность выше 0\n",
    "best_features = tree_importances[tree_importances > 0.1].index.values.tolist()\n",
    "X = df[best_features].values\n",
    "X_train, X_test, y_train, y_test = train_test_split(\n",
    "    X, y, train_size=(3000 / df.shape[0]), random_state=42)\n",
    "tree = DecisionTreeClassifier()\n",
    "tree.fit(X_train, y_train)\n",
    "y_pred = tree.predict(X_test)\n",
    "print(f\"Recall: \\t {recall_score(y_test, y_pred):.3f}\")\n",
    "print(f\"Precision: \\t {precision_score(y_test, y_pred):.3f}\")\n",
    "print(f\"F1 score:' \\t {f1_score(y_test, y_pred):.3f}\")\n",
    "print(f\"Accuracy: \\t {accuracy_score(y_test, y_pred):.2%}\")"
   ]
  },
  {
   "cell_type": "markdown",
   "metadata": {},
   "source": [
    "Как видно, значение Precision чуть лучше, но Recall значительно хуже, что соответственно сказалось на F1-мере, но я предполагаю, что для более точных оценок модель необходимо запускать несколько раз в каждом случае, и в целом мой подход довольно наивный, т.к. я не являюсь специалистом в ML"
   ]
  },
  {
   "cell_type": "markdown",
   "metadata": {},
   "source": [
    "10. Предложите способ, которым решающее дерево способно дать такую оценку."
   ]
  },
  {
   "cell_type": "markdown",
   "metadata": {},
   "source": [
    "11. Обучите алгоритм sklearn.neighbors.KNeighborsClassifier на обучающей выборке и произведите оценку качества модели на тестовой выборке."
   ]
  },
  {
   "cell_type": "markdown",
   "metadata": {},
   "source": [
    "12. Какая из обученных моделей лучше?"
   ]
  },
  {
   "cell_type": "markdown",
   "metadata": {},
   "source": [
    "13. Способен ли KNN оценить информативность признаков?"
   ]
  },
  {
   "cell_type": "markdown",
   "metadata": {},
   "source": [
    "14. Произведите нормировку обучающей и тестовой выборок."
   ]
  },
  {
   "cell_type": "markdown",
   "metadata": {},
   "source": [
    "15. Повторите эксперимент с KNN на нормированных данных. Объясните разницу в результатах."
   ]
  },
  {
   "cell_type": "markdown",
   "metadata": {},
   "source": [
    "16. Повторите эксперимент с решающим деревом на нормированных данных. Сравните результаты с теми, которые получены на ненормированных данных. Объясните подобное поведение."
   ]
  },
  {
   "cell_type": "markdown",
   "metadata": {},
   "source": [
    "17. Пропорции разбиения на данный момент выбраны безосновательно. Найдите оптимальные пропорции разбиения на train и test. Для этого необходимо перебрать значения пропорции разбиения по сетке, для каждого значения сгенерировать большое число разбиений и на каждом посчитать ошибку (с точки зрения выбранной метрики, например, f1), далее строится график зависимости дисперсии величины ошибки от пропорции разбиения, пропорция разбиения выбирается из области наименьшей дисперсии ошибки. Выберите метрику и постройте график зависимости дисперсии ошибки от пропорции разбиения."
   ]
  },
  {
   "cell_type": "markdown",
   "metadata": {},
   "source": [
    "18. Однократное разбиение выборки на train и test не является достаточно хорошим методом с точки зрения оценки качества моделей. На практике используется многократное разбиение или т.н. Cross Validation. Получите оценки качества для решающего дерева и KNN, используя Cross Validation. *Существует несколько типов Cross Validation. Выберите один из них и обоснуйте свой выбор.*"
   ]
  },
  {
   "cell_type": "markdown",
   "metadata": {},
   "source": [
    "19. На данный момент параметры алгоритмов KNN и Decision Tree выбраны наугад. Для одбора параметров используется т.н. Greed Search. \n",
    "  - Найдите оптимальный набор параметров дерева, перебрав значения параметров по сетке. Параметры для настройки: критерий разбиения, максимальная глубина, число признаков для каждого узла, минимальное число объектов в листе.\n",
    "  - Найдите оптимальный набор параметров для KNN, перебрав значения параметров по сетке. Параметры для настройки: число соседей, функция расстояния, схема взвешивания."
   ]
  }
 ],
 "metadata": {
  "anaconda-cloud": {},
  "kernelspec": {
   "display_name": "Python 3 (ipykernel)",
   "language": "python",
   "name": "python3"
  },
  "language_info": {
   "codemirror_mode": {
    "name": "ipython",
    "version": 3
   },
   "file_extension": ".py",
   "mimetype": "text/x-python",
   "name": "python",
   "nbconvert_exporter": "python",
   "pygments_lexer": "ipython3",
   "version": "3.9.7"
  }
 },
 "nbformat": 4,
 "nbformat_minor": 1
}
