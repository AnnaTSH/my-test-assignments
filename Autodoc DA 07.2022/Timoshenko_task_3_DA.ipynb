{
 "cells": [
  {
   "cell_type": "markdown",
   "metadata": {
    "collapsed": true,
    "pycharm": {
     "name": "#%% md\n"
    }
   },
   "source": [
    "# Анна Тимошенко (Дата Аналитик)\n",
    "# Задание #3 Data Analysis\n",
    "\n",
    "## Описание предоставленных данных\n",
    "Фрейм test_price состоит из:\n",
    "* Датасет - каталог товара с данными во вложении\n",
    "* id: товар\n",
    "* Brand:Бренд\n",
    "* Category: категория\n",
    "* SubCategory: подкатегория\n",
    "* SellPrice: цена продажи\n",
    "\n",
    "### Библиотеки Python\n",
    "\n",
    "* [Pandas](http://pandas.pydata.org/)\n",
    "- [Tutorials](http://pandas.pydata.org/pandas-docs/stable/tutorials.html)\n",
    "- [Easier data analysis in Python with pandas](http://www.dataschool.io/easier-data-analysis-with-pandas/)\n",
    "\n",
    "## Разминка\n",
    "**Как и в предыдущей лабораторной здесь запрещено использовать циклы, если это специально не оговорено.**\n",
    "1. Описательная статистика\n",
    "* Вывести самый частотный бренд, категорию, подкатегорию\n",
    "*  Вывести по ним размах цен\n",
    "*  Вывести Среднее значение или медиану (выбор обосновать)"
   ]
  },
  {
   "cell_type": "code",
   "execution_count": 1,
   "metadata": {},
   "outputs": [],
   "source": [
    "import pandas as pd\n",
    "import matplotlib.pyplot as plt\n",
    "import seaborn as sns"
   ]
  },
  {
   "cell_type": "code",
   "execution_count": 2,
   "metadata": {},
   "outputs": [],
   "source": [
    "df = pd.read_csv(\"test_price.csv\")"
   ]
  },
  {
   "cell_type": "code",
   "execution_count": 3,
   "metadata": {},
   "outputs": [
    {
     "data": {
      "text/html": [
       "<div>\n",
       "<style scoped>\n",
       "    .dataframe tbody tr th:only-of-type {\n",
       "        vertical-align: middle;\n",
       "    }\n",
       "\n",
       "    .dataframe tbody tr th {\n",
       "        vertical-align: top;\n",
       "    }\n",
       "\n",
       "    .dataframe thead th {\n",
       "        text-align: right;\n",
       "    }\n",
       "</style>\n",
       "<table border=\"1\" class=\"dataframe\">\n",
       "  <thead>\n",
       "    <tr style=\"text-align: right;\">\n",
       "      <th></th>\n",
       "      <th>id</th>\n",
       "      <th>Brand</th>\n",
       "      <th>SubCategoryNr</th>\n",
       "      <th>Category</th>\n",
       "      <th>SellPrice</th>\n",
       "    </tr>\n",
       "  </thead>\n",
       "  <tbody>\n",
       "    <tr>\n",
       "      <th>0</th>\n",
       "      <td>452798</td>\n",
       "      <td>79</td>\n",
       "      <td>3488</td>\n",
       "      <td>36</td>\n",
       "      <td>10.92</td>\n",
       "    </tr>\n",
       "    <tr>\n",
       "      <th>1</th>\n",
       "      <td>599859</td>\n",
       "      <td>79</td>\n",
       "      <td>1485</td>\n",
       "      <td>36</td>\n",
       "      <td>112.04</td>\n",
       "    </tr>\n",
       "    <tr>\n",
       "      <th>2</th>\n",
       "      <td>183475</td>\n",
       "      <td>79</td>\n",
       "      <td>1485</td>\n",
       "      <td>36</td>\n",
       "      <td>25.09</td>\n",
       "    </tr>\n",
       "    <tr>\n",
       "      <th>3</th>\n",
       "      <td>552471</td>\n",
       "      <td>79</td>\n",
       "      <td>3282</td>\n",
       "      <td>36</td>\n",
       "      <td>1.40</td>\n",
       "    </tr>\n",
       "    <tr>\n",
       "      <th>4</th>\n",
       "      <td>589285</td>\n",
       "      <td>79</td>\n",
       "      <td>3282</td>\n",
       "      <td>36</td>\n",
       "      <td>2.28</td>\n",
       "    </tr>\n",
       "    <tr>\n",
       "      <th>...</th>\n",
       "      <td>...</td>\n",
       "      <td>...</td>\n",
       "      <td>...</td>\n",
       "      <td>...</td>\n",
       "      <td>...</td>\n",
       "    </tr>\n",
       "    <tr>\n",
       "      <th>672264</th>\n",
       "      <td>496149</td>\n",
       "      <td>19</td>\n",
       "      <td>4039</td>\n",
       "      <td>41</td>\n",
       "      <td>0.40</td>\n",
       "    </tr>\n",
       "    <tr>\n",
       "      <th>672265</th>\n",
       "      <td>496136</td>\n",
       "      <td>19</td>\n",
       "      <td>4039</td>\n",
       "      <td>41</td>\n",
       "      <td>0.43</td>\n",
       "    </tr>\n",
       "    <tr>\n",
       "      <th>672266</th>\n",
       "      <td>496137</td>\n",
       "      <td>19</td>\n",
       "      <td>4039</td>\n",
       "      <td>41</td>\n",
       "      <td>0.34</td>\n",
       "    </tr>\n",
       "    <tr>\n",
       "      <th>672267</th>\n",
       "      <td>496138</td>\n",
       "      <td>69</td>\n",
       "      <td>4039</td>\n",
       "      <td>41</td>\n",
       "      <td>0.95</td>\n",
       "    </tr>\n",
       "    <tr>\n",
       "      <th>672268</th>\n",
       "      <td>496139</td>\n",
       "      <td>16</td>\n",
       "      <td>4039</td>\n",
       "      <td>41</td>\n",
       "      <td>0.43</td>\n",
       "    </tr>\n",
       "  </tbody>\n",
       "</table>\n",
       "<p>672269 rows × 5 columns</p>\n",
       "</div>"
      ],
      "text/plain": [
       "            id  Brand  SubCategoryNr  Category  SellPrice\n",
       "0       452798     79           3488        36      10.92\n",
       "1       599859     79           1485        36     112.04\n",
       "2       183475     79           1485        36      25.09\n",
       "3       552471     79           3282        36       1.40\n",
       "4       589285     79           3282        36       2.28\n",
       "...        ...    ...            ...       ...        ...\n",
       "672264  496149     19           4039        41       0.40\n",
       "672265  496136     19           4039        41       0.43\n",
       "672266  496137     19           4039        41       0.34\n",
       "672267  496138     69           4039        41       0.95\n",
       "672268  496139     16           4039        41       0.43\n",
       "\n",
       "[672269 rows x 5 columns]"
      ]
     },
     "execution_count": 3,
     "metadata": {},
     "output_type": "execute_result"
    }
   ],
   "source": [
    "df"
   ]
  },
  {
   "cell_type": "code",
   "execution_count": 4,
   "metadata": {},
   "outputs": [
    {
     "data": {
      "text/plain": [
       "0    369\n",
       "dtype: int64"
      ]
     },
     "execution_count": 4,
     "metadata": {},
     "output_type": "execute_result"
    }
   ],
   "source": [
    "# В случае, если есть более одного (например, два) самых частотных бренда и тп, Series.mode() покажет все, \n",
    "# в отличие от, например, \n",
    "# df.Brand.value_counts().idxmax()\n",
    "df.Brand.mode()"
   ]
  },
  {
   "cell_type": "code",
   "execution_count": 5,
   "metadata": {},
   "outputs": [
    {
     "data": {
      "text/plain": [
       "0    13\n",
       "dtype: int64"
      ]
     },
     "execution_count": 5,
     "metadata": {},
     "output_type": "execute_result"
    }
   ],
   "source": [
    "df.Category.mode()"
   ]
  },
  {
   "cell_type": "code",
   "execution_count": 6,
   "metadata": {},
   "outputs": [
    {
     "data": {
      "text/plain": [
       "0    82\n",
       "dtype: int64"
      ]
     },
     "execution_count": 6,
     "metadata": {},
     "output_type": "execute_result"
    }
   ],
   "source": [
    "df.SubCategoryNr.mode()"
   ]
  },
  {
   "cell_type": "markdown",
   "metadata": {},
   "source": [
    "В нашем случае есть только одна мода в каждом случае"
   ]
  },
  {
   "cell_type": "code",
   "execution_count": 7,
   "metadata": {},
   "outputs": [
    {
     "name": "stdout",
     "output_type": "stream",
     "text": [
      "Самые частотные:\n",
      " Бренд: 369 \n",
      " Категория: 13 \n",
      " Подкатегория: 82\n"
     ]
    }
   ],
   "source": [
    "brand1 = df.Brand.mode().values[0]\n",
    "category1 = df.Category.mode().values[0]\n",
    "subcat1 = df.SubCategoryNr.mode().values[0]\n",
    "print('Самые частотные:\\n Бренд:', brand1, \n",
    "      '\\n Категория:', category1, \n",
    "      '\\n Подкатегория:', subcat1)"
   ]
  },
  {
   "cell_type": "code",
   "execution_count": 8,
   "metadata": {},
   "outputs": [
    {
     "name": "stdout",
     "output_type": "stream",
     "text": [
      "Максимальная, минимальная цена и размах самых частотных:\n",
      "Бренда: 2712.34 | 0.02 | 2712.32 \n",
      "Категории:  1735.73 | 0.17 | 1735.56 \n",
      "Подкатегории:  1209.75 | 1.77 | 1207.98\n"
     ]
    }
   ],
   "source": [
    "# Размах цен\n",
    "brand_max = df[df.Brand == brand1].SellPrice.max()\n",
    "brand_min = df[df.Brand == brand1].SellPrice.min()\n",
    "brand_range = brand_max - brand_min\n",
    "cat_max = df[df.Category == category1].SellPrice.max()\n",
    "cat_min = df[df.Category == category1].SellPrice.min()\n",
    "cat_range = cat_max - cat_min\n",
    "subc_max = df[df.SubCategoryNr == subcat1].SellPrice.max()\n",
    "subc_min = df[df.SubCategoryNr == subcat1].SellPrice.min()\n",
    "subc_range = subc_max - subc_min\n",
    "print('Максимальная, минимальная цена и размах самых частотных:\\nБренда:',\n",
    "      brand_max, '|', brand_min, '|', brand_range, '\\nКатегории: ',\n",
    "      cat_max, '|', cat_min, '|', cat_range, '\\nПодкатегории: ',\n",
    "      subc_max, '|', subc_min, '|', subc_range\n",
    "     )"
   ]
  },
  {
   "cell_type": "markdown",
   "metadata": {},
   "source": [
    "Выбираю медиану, т.к. предполагаю, что распределение цен одного бренда/категории/подкатегории может быть несимметричным, и могут существовать выбросы, которые сильно повлияют на среднее, таким образом, что оно будет плохо подходить для оценки распределения цен"
   ]
  },
  {
   "cell_type": "code",
   "execution_count": 9,
   "metadata": {},
   "outputs": [
    {
     "name": "stdout",
     "output_type": "stream",
     "text": [
      "Медианы цен:\n",
      " Бренда: 16.73 \n",
      " Категории:  26.03 \n",
      " Подкатегории:  32.16\n"
     ]
    }
   ],
   "source": [
    "print('Медианы цен:\\n Бренда:',\n",
    "      df[df.Brand == brand1].SellPrice.median(), '\\n Категории: ',\n",
    "      df[df.Category == category1].SellPrice.median(), '\\n Подкатегории: ',\n",
    "      df[df.SubCategoryNr == subcat1].SellPrice.median()\n",
    "     )"
   ]
  },
  {
   "cell_type": "code",
   "execution_count": 10,
   "metadata": {},
   "outputs": [
    {
     "data": {
      "text/plain": [
       "36.0158964282167"
      ]
     },
     "execution_count": 10,
     "metadata": {},
     "output_type": "execute_result"
    }
   ],
   "source": [
    "df[df.Brand == df.Brand.mode().values[0]].SellPrice.mean()"
   ]
  },
  {
   "cell_type": "code",
   "execution_count": 11,
   "metadata": {},
   "outputs": [
    {
     "data": {
      "text/plain": [
       "36.585712636012296"
      ]
     },
     "execution_count": 11,
     "metadata": {},
     "output_type": "execute_result"
    }
   ],
   "source": [
    "df[df.Category == df.Category.mode().values[0]].SellPrice.mean()"
   ]
  },
  {
   "cell_type": "code",
   "execution_count": 12,
   "metadata": {},
   "outputs": [
    {
     "data": {
      "text/plain": [
       "41.00640700993448"
      ]
     },
     "execution_count": 12,
     "metadata": {},
     "output_type": "execute_result"
    }
   ],
   "source": [
    "df[df.SubCategoryNr == df.SubCategoryNr.mode().values[0]].SellPrice.mean()"
   ]
  },
  {
   "cell_type": "code",
   "execution_count": 13,
   "metadata": {},
   "outputs": [
    {
     "data": {
      "image/png": "[encoded data removed]",
      "text/plain": [
       "<Figure size 432x288 with 3 Axes>"
      ]
     },
     "metadata": {
      "needs_background": "light"
     },
     "output_type": "display_data"
    }
   ],
   "source": [
    "# Можем проверить простыми гистограммами распределения\n",
    "fig, axes = plt.subplots(3, 1)\n",
    "\n",
    "#create boxplot in each subplot\n",
    "sns.histplot(data=df, x=df[df.Brand == brand1].SellPrice, ax=axes[0])\n",
    "sns.histplot(data=df, x=df[df.Category == category1].SellPrice, ax=axes[1])\n",
    "sns.histplot(data=df, x=df[df.SubCategoryNr == subcat1].SellPrice, ax=axes[2])\n",
    "\n",
    "plt.tight_layout()"
   ]
  },
  {
   "cell_type": "markdown",
   "metadata": {
    "pycharm": {
     "name": "#%% md\n"
    }
   },
   "source": [
    "\n",
    "2. Сделать график Распределения иерархий(бренд, категория, подкатегория) по ценам\n",
    "• Распределение (средняя цена / бренд) - берем топ 25-35 брендов\n",
    "• Распределение (средняя цена / категория) берем топ 25-35 категорий\n",
    "• Распределение (средняя цена / подкатегория) берем топ 25-35 подкатегорий"
   ]
  },
  {
   "cell_type": "code",
   "execution_count": 17,
   "metadata": {
    "scrolled": true
   },
   "outputs": [
    {
     "data": {
      "text/plain": [
       "<AxesSubplot:xlabel='SellPrice', ylabel='Count'>"
      ]
     },
     "execution_count": 17,
     "metadata": {},
     "output_type": "execute_result"
    },
    {
     "data": {
      "image/png": "[encoded data removed]",
      "text/plain": [
       "<Figure size 432x288 with 1 Axes>"
      ]
     },
     "metadata": {
      "needs_background": "light"
     },
     "output_type": "display_data"
    }
   ],
   "source": [
    "# Распределение средних цен топ-30 частотных брендов\n",
    "topbrands = df.Brand.value_counts()[:30].index.tolist()\n",
    "sns.histplot(data=df[df.Brand.isin(topbrands)], \n",
    "             x=df[df.Brand.isin(topbrands)].groupby('Brand')['SellPrice'].mean()\n",
    "            )"
   ]
  },
  {
   "cell_type": "code",
   "execution_count": 18,
   "metadata": {},
   "outputs": [
    {
     "data": {
      "text/plain": [
       "<AxesSubplot:xlabel='SellPrice', ylabel='Count'>"
      ]
     },
     "execution_count": 18,
     "metadata": {},
     "output_type": "execute_result"
    },
    {
     "data": {
      "image/png": "[encoded data removed]",
      "text/plain": [
       "<Figure size 432x288 with 1 Axes>"
      ]
     },
     "metadata": {
      "needs_background": "light"
     },
     "output_type": "display_data"
    }
   ],
   "source": [
    "# Распределение средних цен топ-30 частотных категорий\n",
    "topcategories = df.Category.value_counts()[:30].index.tolist()\n",
    "sns.histplot(data=df[df.Category.isin(topcategories)], \n",
    "             x=df[df.Category.isin(topcategories)].groupby('Category')['SellPrice'].mean()\n",
    "            )"
   ]
  },
  {
   "cell_type": "code",
   "execution_count": 19,
   "metadata": {
    "scrolled": true
   },
   "outputs": [
    {
     "data": {
      "text/plain": [
       "<AxesSubplot:xlabel='SellPrice', ylabel='Count'>"
      ]
     },
     "execution_count": 19,
     "metadata": {},
     "output_type": "execute_result"
    },
    {
     "data": {
      "image/png": "[encoded data removed]",
      "text/plain": [
       "<Figure size 432x288 with 1 Axes>"
      ]
     },
     "metadata": {
      "needs_background": "light"
     },
     "output_type": "display_data"
    }
   ],
   "source": [
    "# Распределение средних цен топ-30 частотных подкатегорий\n",
    "topsubcategories = df.SubCategoryNr.value_counts()[:30].index.tolist()\n",
    "sns.histplot(data=df[df.SubCategoryNr.isin(topsubcategories)], \n",
    "             x=df[df.SubCategoryNr.isin(topsubcategories)].groupby('SubCategoryNr')['SellPrice'].mean()\n",
    "            )"
   ]
  },
  {
   "cell_type": "markdown",
   "metadata": {
    "pycharm": {
     "name": "#%% md\n"
    }
   },
   "source": [
    "\n",
    "3. Построить диаграмму размаха boxplot иерархий по ценам\n",
    "* Также как в задание выше (бренд, категория, подкатегория)"
   ]
  },
  {
   "cell_type": "code",
   "execution_count": 20,
   "metadata": {},
   "outputs": [
    {
     "data": {
      "image/png": "[encoded data removed]",
      "text/plain": [
       "<Figure size 720x720 with 3 Axes>"
      ]
     },
     "metadata": {},
     "output_type": "display_data"
    }
   ],
   "source": [
    "sns.set(rc={'figure.figsize':(10,10)})\n",
    "fig, axes = plt.subplots(3, 1)\n",
    "sns.boxplot(data=df[df.Brand.isin(topbrands)],\n",
    "            x=df[df.Brand.isin(topbrands)].groupby('Brand')['SellPrice'].mean(),\n",
    "            ax=axes[0]\n",
    "           )\n",
    "axes[0].set_xlabel('Размах средних цен топ-30 брендов')\n",
    "sns.boxplot(data=df[df.Category.isin(topcategories)],\n",
    "            x=df[df.Category.isin(topcategories)].groupby('Category')['SellPrice'].mean(),\n",
    "            ax=axes[1]\n",
    "           )\n",
    "axes[1].set_xlabel('Размах средних цен топ-30 категорий')\n",
    "sns.boxplot(data=df[df.SubCategoryNr.isin(topsubcategories)],\n",
    "            x=df[df.SubCategoryNr.isin(topsubcategories)].groupby('SubCategoryNr')['SellPrice'].mean(),\n",
    "            ax=axes[2]\n",
    "           )\n",
    "axes[2].set_xlabel('Размах средних цен топ-30 подкатегорий')\n",
    "\n",
    "plt.tight_layout()"
   ]
  },
  {
   "cell_type": "markdown",
   "metadata": {
    "pycharm": {
     "name": "#%% md\n"
    }
   },
   "source": [
    "\n",
    "4. Построить распределение интервалов цен по самому частотному бренду, категории, подкатегории (шаг интервала обосновать)"
   ]
  },
  {
   "cell_type": "code",
   "execution_count": 21,
   "metadata": {},
   "outputs": [
    {
     "data": {
      "text/plain": [
       "<AxesSubplot:xlabel='SellPrice'>"
      ]
     },
     "execution_count": 21,
     "metadata": {},
     "output_type": "execute_result"
    },
    {
     "data": {
      "image/png": "[encoded data removed]",
      "text/plain": [
       "<Figure size 720x720 with 1 Axes>"
      ]
     },
     "metadata": {},
     "output_type": "display_data"
    }
   ],
   "source": [
    "# построим боксплот, чтобы прикинуть распределение цен самого частотного бренда\n",
    "sns.boxplot(data=df[df.Brand == brand1], x=df[df.Brand == brand1].SellPrice)"
   ]
  },
  {
   "cell_type": "markdown",
   "metadata": {},
   "source": [
    "Мы видим, что есть большое количество значений выше 3 квартиля, (у гистограммы будет длинный \"хвост\" вправо) для удобства просмотра предлагаю отображать на гистограмме только значения цен, лежащие в промежутке до \"уса\", т.е. до 3 квартиля + 1.5 межквартильных размаха"
   ]
  },
  {
   "cell_type": "code",
   "execution_count": 22,
   "metadata": {},
   "outputs": [
    {
     "data": {
      "text/plain": [
       "0.08596159586110835"
      ]
     },
     "execution_count": 22,
     "metadata": {},
     "output_type": "execute_result"
    }
   ],
   "source": [
    "q3 = df[df.Brand == brand1].SellPrice.quantile(0.75)\n",
    "q1 = df[df.Brand == brand1].SellPrice.quantile(0.25)\n",
    "pricelimit = 1.5*(q3 - q1) + q3\n",
    "# Доля значений цен, которая не будет продемонстрирована на графике\n",
    "df[(df.Brand == brand1) & (df.SellPrice > pricelimit)].shape[0] / df[(df.Brand == brand1)].shape[0]"
   ]
  },
  {
   "cell_type": "markdown",
   "metadata": {},
   "source": [
    "Можем воспользоваться правилом [Фридмана-Диакониса](https://en.wikipedia.org/wiki/Freedman%E2%80%93Diaconis_rule) для определения ширины шага"
   ]
  },
  {
   "cell_type": "code",
   "execution_count": 23,
   "metadata": {},
   "outputs": [],
   "source": [
    "bin_w = 2 * (q3 - q1) / (df[df.Brand == brand1].shape[0]**(1/3))"
   ]
  },
  {
   "cell_type": "code",
   "execution_count": 24,
   "metadata": {},
   "outputs": [
    {
     "data": {
      "text/plain": [
       "<AxesSubplot:xlabel='SellPrice', ylabel='Count'>"
      ]
     },
     "execution_count": 24,
     "metadata": {},
     "output_type": "execute_result"
    },
    {
     "data": {
      "image/png": "[encoded data removed]",
      "text/plain": [
       "<Figure size 720x720 with 1 Axes>"
      ]
     },
     "metadata": {},
     "output_type": "display_data"
    }
   ],
   "source": [
    "sns.histplot(data=df[(df.Brand == brand1) & (df.SellPrice <= pricelimit)], \n",
    "             x=df[(df.Brand == brand1) & (df.SellPrice <= pricelimit)].SellPrice, binwidth=bin_w\n",
    "            )"
   ]
  },
  {
   "cell_type": "markdown",
   "metadata": {},
   "source": [
    "Если мы хотим отобразить все данные на одном графике, включая выбросы, мы можем добавить выбросы в последнюю \"корзину\""
   ]
  },
  {
   "cell_type": "code",
   "execution_count": 25,
   "metadata": {},
   "outputs": [
    {
     "data": {
      "text/plain": [
       "(84.77, 82.9765272368389)"
      ]
     },
     "execution_count": 25,
     "metadata": {},
     "output_type": "execute_result"
    }
   ],
   "source": [
    "# Напишем функцию, которая будет присваивать слишком дорогостоящим продуктам нужное нам значение цены\n",
    "# в интервале (pricelimit - bin_w)\n",
    "pricelimit, (pricelimit - bin_w)"
   ]
  },
  {
   "cell_type": "code",
   "execution_count": 26,
   "metadata": {},
   "outputs": [],
   "source": [
    "# Допустим, 84\n",
    "def set_sellprice(price):\n",
    "    if price > 84.77:\n",
    "        return 84.70\n",
    "    else:\n",
    "        return price"
   ]
  },
  {
   "cell_type": "code",
   "execution_count": 27,
   "metadata": {},
   "outputs": [],
   "source": [
    "# Проделаем все необходимые действия на отдельном датафрейме\n",
    "brand1_prices = df[df.Brand == brand1].copy()\n",
    "brand1_prices['SellPrice'] = brand1_prices.loc[:, 'SellPrice'].apply(set_sellprice)"
   ]
  },
  {
   "cell_type": "code",
   "execution_count": 28,
   "metadata": {},
   "outputs": [
    {
     "data": {
      "text/plain": [
       "<AxesSubplot:xlabel='SellPrice', ylabel='Count'>"
      ]
     },
     "execution_count": 28,
     "metadata": {},
     "output_type": "execute_result"
    },
    {
     "data": {
      "image/png": "[encoded data removed]",
      "text/plain": [
       "<Figure size 720x720 with 1 Axes>"
      ]
     },
     "metadata": {},
     "output_type": "display_data"
    }
   ],
   "source": [
    "sns.histplot(data=brand1_prices, x=brand1_prices.SellPrice, binwidth=bin_w)"
   ]
  },
  {
   "cell_type": "markdown",
   "metadata": {},
   "source": [
    "Таким образом мы получили гистограмму, демонстрирующую наличие большого количества выборосов, и позволяющую визуально сравнить их количество с количеством наблюдений в наиболее частых ценовых диапазонах.\n",
    "Однако, такая визуализация может быть избыточной и вопрос о том, удалять выбросы перед визуализацией или добавлять их в последний интервал может решаться отдельно в каждом случае"
   ]
  },
  {
   "cell_type": "markdown",
   "metadata": {},
   "source": [
    "Проделаем те же шаги для самой частотной категории и подкатегории"
   ]
  },
  {
   "cell_type": "markdown",
   "metadata": {},
   "source": [
    "Так как выше, при ответе на первый вопрос, уже были построены гистограммы распределения самых частотных Категории и Подкатегории, мы уже представляем, что в их случаях будет та же ситуация (выбросы, длинный правый хвост). Это видно и если воспользоваться функцией describe()"
   ]
  },
  {
   "cell_type": "code",
   "execution_count": 29,
   "metadata": {},
   "outputs": [
    {
     "data": {
      "text/plain": [
       "count    200902.000000\n",
       "mean         36.585713\n",
       "std          35.615731\n",
       "min           0.170000\n",
       "25%          16.420000\n",
       "50%          26.030000\n",
       "75%          43.840000\n",
       "max        1735.730000\n",
       "Name: SellPrice, dtype: float64"
      ]
     },
     "execution_count": 29,
     "metadata": {},
     "output_type": "execute_result"
    }
   ],
   "source": [
    "df[df.Category == category1].SellPrice.describe()"
   ]
  },
  {
   "cell_type": "code",
   "execution_count": 30,
   "metadata": {},
   "outputs": [
    {
     "data": {
      "text/plain": [
       "count    62711.000000\n",
       "mean        41.006407\n",
       "std         32.089466\n",
       "min          1.770000\n",
       "25%         22.620000\n",
       "50%         32.160000\n",
       "75%         48.705000\n",
       "max       1209.750000\n",
       "Name: SellPrice, dtype: float64"
      ]
     },
     "execution_count": 30,
     "metadata": {},
     "output_type": "execute_result"
    }
   ],
   "source": [
    "df[df.SubCategoryNr == subcat1].SellPrice.describe()"
   ]
  },
  {
   "cell_type": "markdown",
   "metadata": {},
   "source": [
    "75% значений цены самой частотной Категории - до 43.84, а подкатегории - до 48.71 при максимумах цен 1735.73 и 1209.75 соответственно"
   ]
  },
  {
   "cell_type": "code",
   "execution_count": 31,
   "metadata": {},
   "outputs": [
    {
     "data": {
      "text/plain": [
       "<AxesSubplot:xlabel='SellPrice', ylabel='Count'>"
      ]
     },
     "execution_count": 31,
     "metadata": {},
     "output_type": "execute_result"
    },
    {
     "data": {
      "image/png": "[encoded data removed]",
      "text/plain": [
       "<Figure size 720x720 with 1 Axes>"
      ]
     },
     "metadata": {},
     "output_type": "display_data"
    }
   ],
   "source": [
    "# Посчитаем лимит цен, по которому \"отсечём\" выбросы\n",
    "q3 = df[df.Category == category1].SellPrice.quantile(0.75)\n",
    "q1 = df[df.Category == category1].SellPrice.quantile(0.25)\n",
    "pricelimit = 1.5*(q3 - q1) + q3\n",
    "# Посчитаем размер интервалов\n",
    "bin_w = 2 * (q3 - q1) / (df[df.Category == category1].shape[0]**(1/3))\n",
    "# Построим график\n",
    "sns.histplot(data=df[(df.Category == category1) & (df.SellPrice <= pricelimit)], \n",
    "             x=df[(df.Category == category1) & (df.SellPrice <= pricelimit)].SellPrice, binwidth=bin_w\n",
    "            )"
   ]
  },
  {
   "cell_type": "markdown",
   "metadata": {},
   "source": [
    "Интересно, что такой размер интервала демонстрирует наличие пика количества продуктов с ценой ~10, который мы бы не увидели, сделав интервал больше, например 4. Окончательный выбор интервала должен быть продиктован бизнес-логикой - для кого эта визуализация, какие инсайты мы хотим получить. О чём может говорить существование пика количества товаров стоимостью ~10 в данной категории? "
   ]
  },
  {
   "cell_type": "code",
   "execution_count": 32,
   "metadata": {},
   "outputs": [
    {
     "data": {
      "text/plain": [
       "200902"
      ]
     },
     "execution_count": 32,
     "metadata": {},
     "output_type": "execute_result"
    }
   ],
   "source": [
    "df[(df.Category == category1)].shape[0]"
   ]
  },
  {
   "cell_type": "markdown",
   "metadata": {},
   "source": [
    "Насколько значимо количество товаров порядка 5000 при общем количестве товаров в Категории: 200902 - это около 2.5%? Может быть цена ~10 является ожидаемой и комфортной для покупателей для какой-то определённой подкатегории товаров в этой категории или она продиктована какими-то другими причинами? Например, ограничениями при оплате через определённую платёжную систему, или со счёта мобильного телефона..."
   ]
  },
  {
   "cell_type": "code",
   "execution_count": 33,
   "metadata": {},
   "outputs": [
    {
     "data": {
      "text/plain": [
       "(84.97, 84.03365471905036)"
      ]
     },
     "execution_count": 33,
     "metadata": {},
     "output_type": "execute_result"
    }
   ],
   "source": [
    "# Построим гистограмму с включёнными выбросами, для этого посмотрим последний интервал\n",
    "pricelimit, (pricelimit - bin_w)"
   ]
  },
  {
   "cell_type": "code",
   "execution_count": 34,
   "metadata": {},
   "outputs": [],
   "source": [
    "# соответствующая функция для включения выбросов в последний интервал\n",
    "def set_sellprice_с(price):\n",
    "    if price > 84.97:\n",
    "        return 84.5\n",
    "    else:\n",
    "        return price"
   ]
  },
  {
   "cell_type": "code",
   "execution_count": 35,
   "metadata": {},
   "outputs": [
    {
     "data": {
      "text/plain": [
       "<AxesSubplot:xlabel='SellPrice', ylabel='Count'>"
      ]
     },
     "execution_count": 35,
     "metadata": {},
     "output_type": "execute_result"
    },
    {
     "data": {
      "image/png": "[encoded data removed]",
      "text/plain": [
       "<Figure size 720x720 with 1 Axes>"
      ]
     },
     "metadata": {},
     "output_type": "display_data"
    }
   ],
   "source": [
    "# Проделаем все необходимые действия на отдельном датафрейме\n",
    "cat1_prices = df[df.Category == category1].copy()\n",
    "cat1_prices['SellPrice'] = cat1_prices.loc[:, 'SellPrice'].apply(set_sellprice_с)\n",
    "sns.histplot(data=cat1_prices, x=cat1_prices.SellPrice, binwidth=bin_w)"
   ]
  },
  {
   "cell_type": "code",
   "execution_count": 36,
   "metadata": {},
   "outputs": [
    {
     "data": {
      "text/plain": [
       "<AxesSubplot:xlabel='SellPrice', ylabel='Count'>"
      ]
     },
     "execution_count": 36,
     "metadata": {},
     "output_type": "execute_result"
    },
    {
     "data": {
      "image/png": "[encoded data removed]",
      "text/plain": [
       "<Figure size 720x720 with 1 Axes>"
      ]
     },
     "metadata": {},
     "output_type": "display_data"
    }
   ],
   "source": [
    "# Построим график для подкатегорий\n",
    "q3 = df[df.SubCategoryNr == subcat1].SellPrice.quantile(0.75)\n",
    "q1 = df[df.SubCategoryNr == subcat1].SellPrice.quantile(0.25)\n",
    "pricelimit = 1.5*(q3 - q1) + q3\n",
    "# Посчитаем размер интервалов\n",
    "bin_w = 2 * (q3 - q1) / (df[df.SubCategoryNr == subcat1].shape[0]**(1/3))\n",
    "# Построим график\n",
    "sns.histplot(data=df[(df.SubCategoryNr == subcat1) & (df.SellPrice <= pricelimit)], \n",
    "             x=df[(df.SubCategoryNr == subcat1) & (df.SellPrice <= pricelimit)].SellPrice, binwidth=bin_w\n",
    "            )"
   ]
  },
  {
   "cell_type": "code",
   "execution_count": 37,
   "metadata": {},
   "outputs": [
    {
     "data": {
      "text/plain": [
       "(87.8325, 86.51937442072722)"
      ]
     },
     "execution_count": 37,
     "metadata": {},
     "output_type": "execute_result"
    }
   ],
   "source": [
    "# Построим гистограмму с включёнными выбросами, для этого посмотрим последний интервал\n",
    "pricelimit, (pricelimit - bin_w)"
   ]
  },
  {
   "cell_type": "code",
   "execution_count": 38,
   "metadata": {},
   "outputs": [],
   "source": [
    "# Функция для включения выбросов в последний интервал\n",
    "def set_sellprice_sc(price):\n",
    "    if price > 87.8325:\n",
    "        return 87.5\n",
    "    else:\n",
    "        return price"
   ]
  },
  {
   "cell_type": "code",
   "execution_count": 39,
   "metadata": {},
   "outputs": [
    {
     "data": {
      "text/plain": [
       "<AxesSubplot:xlabel='SellPrice', ylabel='Count'>"
      ]
     },
     "execution_count": 39,
     "metadata": {},
     "output_type": "execute_result"
    },
    {
     "data": {
      "image/png": "[encoded data removed]",
      "text/plain": [
       "<Figure size 720x720 with 1 Axes>"
      ]
     },
     "metadata": {},
     "output_type": "display_data"
    }
   ],
   "source": [
    "# Проделаем все необходимые действия на отдельном датафрейме\n",
    "subcat1_prices = df[df.SubCategoryNr == subcat1].copy()\n",
    "subcat1_prices['SellPrice'] = subcat1_prices.loc[:, 'SellPrice'].apply(set_sellprice_sc)\n",
    "sns.histplot(data=subcat1_prices, x=subcat1_prices.SellPrice, binwidth=bin_w)"
   ]
  },
  {
   "cell_type": "markdown",
   "metadata": {
    "pycharm": {
     "name": "#%% md\n"
    }
   },
   "source": [
    "\n",
    "5. Сделать сегментацию по уровням цен по иерархии (внутри Brand/Category/SubCategory)\n",
    "* Дополнительные знания найденные в датасете и инсайты приветствуются.\n"
   ]
  },
  {
   "cell_type": "markdown",
   "metadata": {},
   "source": [
    "Посмотрим, как в принципе распределены цены товаров"
   ]
  },
  {
   "cell_type": "code",
   "execution_count": 40,
   "metadata": {
    "scrolled": false
   },
   "outputs": [
    {
     "data": {
      "text/plain": [
       "<AxesSubplot:xlabel='SellPrice'>"
      ]
     },
     "execution_count": 40,
     "metadata": {},
     "output_type": "execute_result"
    },
    {
     "data": {
      "image/png": "[encoded data removed]",
      "text/plain": [
       "<Figure size 1440x720 with 1 Axes>"
      ]
     },
     "metadata": {},
     "output_type": "display_data"
    }
   ],
   "source": [
    "sns.set(rc={'figure.figsize':(20,10)})\n",
    "sns.boxplot(data=df, x='SellPrice')"
   ]
  },
  {
   "cell_type": "code",
   "execution_count": 41,
   "metadata": {},
   "outputs": [
    {
     "data": {
      "text/plain": [
       "count    672269.000000\n",
       "mean         51.835930\n",
       "std         102.533874\n",
       "min           0.020000\n",
       "25%          12.790000\n",
       "50%          26.990000\n",
       "75%          56.560000\n",
       "max       21176.350000\n",
       "Name: SellPrice, dtype: float64"
      ]
     },
     "execution_count": 41,
     "metadata": {},
     "output_type": "execute_result"
    }
   ],
   "source": [
    "df.SellPrice.describe()"
   ]
  },
  {
   "cell_type": "markdown",
   "metadata": {},
   "source": [
    "То есть у нас есть большая часть товаров (75%) - лежит в ценовом диапазоне до 56.56"
   ]
  },
  {
   "cell_type": "code",
   "execution_count": 42,
   "metadata": {},
   "outputs": [
    {
     "data": {
      "text/plain": [
       "<AxesSubplot:xlabel='SellPrice'>"
      ]
     },
     "execution_count": 42,
     "metadata": {},
     "output_type": "execute_result"
    },
    {
     "data": {
      "image/png": "[encoded data removed]",
      "text/plain": [
       "<Figure size 1440x720 with 1 Axes>"
      ]
     },
     "metadata": {},
     "output_type": "display_data"
    }
   ],
   "source": [
    "sns.set(rc={'figure.figsize':(20,10)})\n",
    "sns.boxplot(data=df[df.SellPrice <= 56.56], x='SellPrice')"
   ]
  },
  {
   "cell_type": "code",
   "execution_count": 43,
   "metadata": {},
   "outputs": [
    {
     "data": {
      "text/plain": [
       "<AxesSubplot:xlabel='SellPrice', ylabel='Count'>"
      ]
     },
     "execution_count": 43,
     "metadata": {},
     "output_type": "execute_result"
    },
    {
     "data": {
      "image/png": "[encoded data removed]",
      "text/plain": [
       "<Figure size 1440x720 with 1 Axes>"
      ]
     },
     "metadata": {},
     "output_type": "display_data"
    }
   ],
   "source": [
    "sns.set(rc={'figure.figsize':(20,10)})\n",
    "sns.histplot(data=df[(df.SellPrice > 56.56) & (df.SellPrice <= 1000)], x='SellPrice')"
   ]
  },
  {
   "cell_type": "markdown",
   "metadata": {},
   "source": [
    "Ценовая сегментация товаров конечно должна осуществляться на оценке рынка, будем считать, что представленный датасет хорошо отражает распределение цен на рынке"
   ]
  },
  {
   "cell_type": "markdown",
   "metadata": {},
   "source": [
    "Принимая во внимание то, что медианная цена лучше отражает распределение цен внутри некоей категории, будем исходить из предположения, что \n",
    "* стоимость товаров нижней ценовой категории лежит в первом квартиле распределения цен\n",
    "* средняя ценовая категория - это товары в промежутке между первым и третьим квартилем\n",
    "* товары премиум-класса начинаются от цен на 20% выше, чем медианная цена в категории, \n",
    "* товары класса люкс - это товары стоимостью более чем в 10 раз выше, чем медианная цена"
   ]
  },
  {
   "cell_type": "markdown",
   "metadata": {},
   "source": [
    "В разных категориях может быть разное распределение цен, попробуем определить категории и подкатегории продуктов (и бренды), в которые попали самые дорогостоящие товары "
   ]
  },
  {
   "cell_type": "code",
   "execution_count": 44,
   "metadata": {},
   "outputs": [
    {
     "data": {
      "text/plain": [
       "(100, 27, 74)"
      ]
     },
     "execution_count": 44,
     "metadata": {},
     "output_type": "execute_result"
    }
   ],
   "source": [
    "# Какие Бренды, Категории и Подкатегории попали в самый высокий ценовой диапазон\n",
    "df[df.SellPrice > (df.SellPrice.mean() * 10)].Brand.nunique(), \\\n",
    "df[df.SellPrice > (df.SellPrice.mean() * 10)].Category.nunique(), \\\n",
    "df[df.SellPrice > (df.SellPrice.mean() * 10)].SubCategoryNr.nunique()"
   ]
  },
  {
   "cell_type": "markdown",
   "metadata": {},
   "source": [
    "Довольно много Брендов, Категорий и Подкатегорий встречаются среди товаров, которые мы определили как класс люкс"
   ]
  },
  {
   "cell_type": "markdown",
   "metadata": {},
   "source": [
    "Вариант упрощённой визуализации ценовой сегментации Брендов, Категорий и Подкатегорий: три \"корзины\" представляют собой нижнюю ценовую категорию, среднюю и премиум-сегмент"
   ]
  },
  {
   "cell_type": "code",
   "execution_count": 45,
   "metadata": {},
   "outputs": [
    {
     "data": {
      "text/plain": [
       "(array([179., 123.,  16.]),\n",
       " array([  0,  25,  75, 100]),\n",
       " <BarContainer object of 3 artists>)"
      ]
     },
     "execution_count": 45,
     "metadata": {},
     "output_type": "execute_result"
    },
    {
     "data": {
      "image/png": "[encoded data removed]",
      "text/plain": [
       "<Figure size 1440x720 with 1 Axes>"
      ]
     },
     "metadata": {},
     "output_type": "display_data"
    }
   ],
   "source": [
    "plt.hist(df.groupby('Brand')['SellPrice'].median(), bins=[0, 25, 75, 100])"
   ]
  },
  {
   "cell_type": "code",
   "execution_count": 46,
   "metadata": {},
   "outputs": [
    {
     "data": {
      "text/plain": [
       "(array([34., 16.,  2.]),\n",
       " array([  0,  25,  75, 100]),\n",
       " <BarContainer object of 3 artists>)"
      ]
     },
     "execution_count": 46,
     "metadata": {},
     "output_type": "execute_result"
    },
    {
     "data": {
      "image/png": "[encoded data removed]",
      "text/plain": [
       "<Figure size 1440x720 with 1 Axes>"
      ]
     },
     "metadata": {},
     "output_type": "display_data"
    }
   ],
   "source": [
    "plt.hist(df.groupby('Category')['SellPrice'].median(), bins=[0, 25, 75, 100])"
   ]
  },
  {
   "cell_type": "code",
   "execution_count": 47,
   "metadata": {},
   "outputs": [
    {
     "data": {
      "text/plain": [
       "(array([392., 142.,  23.]),\n",
       " array([  0,  25,  75, 100]),\n",
       " <BarContainer object of 3 artists>)"
      ]
     },
     "execution_count": 47,
     "metadata": {},
     "output_type": "execute_result"
    },
    {
     "data": {
      "image/png": "[encoded data removed]",
      "text/plain": [
       "<Figure size 1440x720 with 1 Axes>"
      ]
     },
     "metadata": {},
     "output_type": "display_data"
    }
   ],
   "source": [
    "plt.hist(df.groupby('SubCategoryNr')['SellPrice'].median(), bins=[0, 25, 75, 100])"
   ]
  }
 ],
 "metadata": {
  "kernelspec": {
   "display_name": "Python 3 (ipykernel)",
   "language": "python",
   "name": "python3"
  },
  "language_info": {
   "codemirror_mode": {
    "name": "ipython",
    "version": 3
   },
   "file_extension": ".py",
   "mimetype": "text/x-python",
   "name": "python",
   "nbconvert_exporter": "python",
   "pygments_lexer": "ipython3",
   "version": "3.9.7"
  }
 },
 "nbformat": 4,
 "nbformat_minor": 1
}
